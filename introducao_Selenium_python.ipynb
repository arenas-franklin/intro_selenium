{
 "cells": [
  {
   "cell_type": "markdown",
   "id": "af2f058b-6e1c-40df-ae47-48ef5e65810c",
   "metadata": {},
   "source": [
    "# Automação Web com Selenium"
   ]
  },
  {
   "cell_type": "markdown",
   "id": "71686bd1-e721-4cd1-b4ad-934b485a418d",
   "metadata": {},
   "source": [
    "**Puthon + Selenium**\n",
    "\n",
    "- 2 requisitos\n",
    "    - instalar o Selenium\n",
    "    - Webdriver Manager"
   ]
  },
  {
   "cell_type": "markdown",
   "id": "bb9911c1-6a6f-4b9e-bfb6-0891d9546f1b",
   "metadata": {
    "jp-MarkdownHeadingCollapsed": true,
    "tags": []
   },
   "source": [
    "Para apredender, vamos usar Python para preencher um formuláriona internet \n",
    "\n",
    "- Passo 1: Entrar em https\n",
    "- Passo 2: Preencher nome, preencher e-mail\n",
    "- Passo 3: Clicar no botão para enviar o formulario   "
   ]
  },
  {
   "cell_type": "code",
   "execution_count": 2,
   "id": "367becb2-6b11-40fc-8e91-6016ceae807e",
   "metadata": {},
   "outputs": [],
   "source": [
    "from selenium import webdriver\n",
    "from webdriver_manager.chrome import ChromeDriverManager\n",
    "from selenium.webdriver.chrome.service import Service\n",
    "\n",
    "servico = Service(ChromeDriverManager().install())\n",
    "\n",
    "navegador = webdriver.Chrome(service=servico)"
   ]
  },
  {
   "cell_type": "code",
   "execution_count": 11,
   "id": "eb88086c-d302-4725-ab86-95d99c67aa37",
   "metadata": {},
   "outputs": [],
   "source": [
    "#passo 1:\n",
    "navegador.get(\"https://pages.hashtagtreinamentos.com/inscricao-minicurso-python-automacao-org?origemurl=hashtag_yt_org_minipython_8AMNaVt0z_M\")\n",
    "\n",
    "# passo 2:\n",
    "navegador.find_element('xpath',\n",
    "                       '//*[@id=\"section-10356508\"]/section/div[2]/div/div[2]/form/div[1]/div/div[1]/div/input').send_keys('Franklin')\n",
    "\n",
    "navegador.find_element('xpath',\n",
    "                      '//*[@id=\"section-10356508\"]/section/div[2]/div/div[2]/form/div[1]/div/div[2]/div/input').send_keys('angelod1@hotmail.com')\n",
    "\n",
    "\n",
    "navegador.find_element('xpath',\n",
    "                      '//*[@id=\"section-10356508\"]/section/div[2]/div/div[2]/form/div[1]/div/div[3]/div/input').send_keys('11932034220')\n",
    "\n",
    "navegador.find_element('xpath',\n",
    "                      '//*[@id=\"section-10356508\"]/section/div[2]/div/div[2]/form/button').click()"
   ]
  },
  {
   "cell_type": "code",
   "execution_count": null,
   "id": "ad10f5bb-4d4f-4bcc-88b1-9c5e471b3bfe",
   "metadata": {},
   "outputs": [],
   "source": []
  }
 ],
 "metadata": {
  "kernelspec": {
   "display_name": "Python 3 (ipykernel)",
   "language": "python",
   "name": "python3"
  },
  "language_info": {
   "codemirror_mode": {
    "name": "ipython",
    "version": 3
   },
   "file_extension": ".py",
   "mimetype": "text/x-python",
   "name": "python",
   "nbconvert_exporter": "python",
   "pygments_lexer": "ipython3",
   "version": "3.9.13"
  }
 },
 "nbformat": 4,
 "nbformat_minor": 5
}
